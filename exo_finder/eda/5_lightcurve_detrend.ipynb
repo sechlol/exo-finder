{
 "cells": [
  {
   "cell_type": "code",
   "id": "initial_id",
   "metadata": {},
   "source": [
    "from matplotlib import pyplot as plt\n",
    "\n",
    "from exo_finder.compute.detrending import fit_with_wotan\n",
    "from exo_finder.compute.lc_utils import split_array_in_contiguous_chunks\n",
    "from exo_finder.constants import LC_WINDOW_SIZE, LC_WINDOW_MIN_SIZE\n",
    "from exo_finder.default_datasets import transiting_lightcurves_ds, sunlike_lightcurves_ds\n",
    "from exo_finder.visualization.lightcurve_plotting import plot_lightcurve_ax\n",
    "from exotools import LightCurvePlus"
   ],
   "outputs": [],
   "execution_count": null
  },
  {
   "cell_type": "code",
   "id": "a8e0f58136eb102e",
   "metadata": {},
   "source": [
    "%load_ext autoreload\n",
    "%autoreload 2"
   ],
   "outputs": [],
   "execution_count": null
  },
  {
   "cell_type": "code",
   "id": "2fd64f2c643d7e6f",
   "metadata": {},
   "source": [
    "# lc_db: LightcurveDB = get_combined_lightcurve_db()\n",
    "exo_lc = transiting_lightcurves_ds.load_lightcurve_dataset()\n",
    "sun_lc = sunlike_lightcurves_ds.load_lightcurve_dataset()"
   ],
   "outputs": [],
   "execution_count": null
  },
  {
   "cell_type": "code",
   "id": "fbd040466ac8c4fc",
   "metadata": {},
   "source": [
    "sample_db = sun_lc.select_random_sample(n=10)\n",
    "for obs_id in sample_db.unique_obs_ids:\n",
    "    lc_plus: LightCurvePlus = sun_lc.load_by_obs_id(obs_id, start_time_at_zero=True).remove_outliers().remove_nans()\n",
    "    fills = lc_plus.find_contiguous_time_x(greater_than_median=25)\n",
    "    contiguous_intervals = split_array_in_contiguous_chunks(\n",
    "        lc_plus.time_x, chunk_size=LC_WINDOW_SIZE, tolerate_if_len_at_least=LC_WINDOW_MIN_SIZE\n",
    "    )\n",
    "    flat_flux, trend_flux = fit_with_wotan(\n",
    "        time=lc_plus.time_x,\n",
    "        flux=lc_plus.flux_y,\n",
    "        return_trend=True,\n",
    "        window_length=0.25,\n",
    "        method=\"biweight\",\n",
    "    )\n",
    "\n",
    "    fig, (ax1, ax2) = plt.subplots(2, 1, figsize=(15, 8))\n",
    "\n",
    "    plot_lightcurve_ax(lightcurve=lc_plus, ax=ax1, title=f\"{lc_plus.tic_id} - {lc_plus.obs_id}\", label=\"Original\")\n",
    "    ax1.plot(lc_plus.time_x, trend_flux, color=\"red\", label=\"Trend\")\n",
    "\n",
    "    for fill_start, fill_end in fills:\n",
    "        ax1.fill_betweenx(y=(lc_plus.flux_y.min(), lc_plus.flux_y.max()), x1=fill_start, x2=fill_end, alpha=0.3)\n",
    "\n",
    "    for c_start, c_end in contiguous_intervals:\n",
    "        ax1.axvline(c_start, color=\"green\")\n",
    "        ax1.axvline(c_end, color=\"red\")\n",
    "        mask = (lc_plus.time_x >= c_start) & (lc_plus.time_x <= c_end)\n",
    "        ax2.scatter(lc_plus.time_x[mask], flat_flux[mask], color=\"blue\", s=1, label=\"Detrended\")\n",
    "\n",
    "    ax1.set(xlim=(lc_plus.time_x.min(), lc_plus.time_x.max()))\n",
    "    ax2.set(xlim=(lc_plus.time_x.min(), lc_plus.time_x.max()))\n",
    "    ax2.grid(True)\n",
    "    ax1.legend()\n",
    "    plt.show()"
   ],
   "outputs": [],
   "execution_count": null
  }
 ],
 "metadata": {
  "kernelspec": {
   "display_name": "Python 3",
   "language": "python",
   "name": "python3"
  },
  "language_info": {
   "codemirror_mode": {
    "name": "ipython",
    "version": 2
   },
   "file_extension": ".py",
   "mimetype": "text/x-python",
   "name": "python",
   "nbconvert_exporter": "python",
   "pygments_lexer": "ipython2",
   "version": "2.7.6"
  }
 },
 "nbformat": 4,
 "nbformat_minor": 5
}
