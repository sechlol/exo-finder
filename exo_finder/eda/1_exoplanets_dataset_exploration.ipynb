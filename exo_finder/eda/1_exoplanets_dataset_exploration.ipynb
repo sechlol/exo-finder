{
 "cells": [
  {
   "cell_type": "code",
   "id": "aeca8d047d3fad3e",
   "metadata": {
    "collapsed": false
   },
   "source": [
    "from typing import Optional\n",
    "\n",
    "import numpy as np\n",
    "import pandas as pd\n",
    "import plotly.express as px\n",
    "import seaborn as sns\n",
    "from matplotlib import pyplot as plt\n",
    "from exo_finder.default_datasets import exo_dataset"
   ],
   "outputs": [],
   "execution_count": null
  },
  {
   "metadata": {},
   "cell_type": "markdown",
   "source": "# Known Exoplanet dataset exploration",
   "id": "f1496f4e39338bf3"
  },
  {
   "cell_type": "code",
   "source": [
    "exo_db = exo_dataset.load_known_exoplanets_dataset(with_gaia_star_data=True).get_default_records()\n",
    "exo_df = exo_db.to_pandas()\n",
    "exo_df"
   ],
   "metadata": {
    "collapsed": true
   },
   "id": "initial_id",
   "outputs": [],
   "execution_count": null
  },
  {
   "metadata": {},
   "cell_type": "markdown",
   "source": "#### Discoveries per telescope",
   "id": "5c2ddb5471ff0e04"
  },
  {
   "metadata": {},
   "cell_type": "code",
   "source": [
    "# Discoveries by telescope\n",
    "(exo_df\n",
    "    .groupby(\"disc_facility\")\n",
    "    .aggregate({\"disc_year\": \"min\", \"disc_facility\": \"count\"})\n",
    "    .rename(columns={\"disc_facility\": \"total_discoveries\", \"disc_year\": \"year_of_first_discovery\"})\n",
    "    .sort_values(by=\"total_discoveries\", ascending=False))"
   ],
   "id": "b6ca85fa78c20789",
   "outputs": [],
   "execution_count": null
  },
  {
   "metadata": {},
   "cell_type": "markdown",
   "source": "#### Cumulative discoveries over the years, and discovery methods",
   "id": "a97b91dd6baee0d"
  },
  {
   "metadata": {},
   "cell_type": "code",
   "source": [
    "def discoveries_by_year() -> pd.DataFrame:\n",
    "    sum_by_year = (exo_df\n",
    "                   .groupby(\"disc_year\")\n",
    "                   .aggregate({\"disc_year\": \"count\"})\n",
    "                   .rename(columns={\"disc_year\": \"count\"})\n",
    "                   .sort_values(by=\"disc_year\")\n",
    "                   .cumsum().reset_index())\n",
    "    missing = pd.DataFrame({\"disc_year\": 1993, \"count\": 2}, index=[0])\n",
    "    sum_by_year = pd.concat([sum_by_year, missing], ignore_index=True).sort_values(by=\"disc_year\")\n",
    "    return sum_by_year\n",
    "\n",
    "def plot_discoveries_by_year_and_type():\n",
    "    disc_by_year = discoveries_by_year()\n",
    "    count_per_type = exo_df.groupby(\"discoverymethod\", observed=False).size().rename(\"count\").reset_index().sort_values(by=\"count\", ascending=False)\n",
    "\n",
    "    fig, (ax1, ax2) = plt.subplots(1, 2, figsize=(15, 7))\n",
    "    ax1.plot(disc_by_year[\"disc_year\"], disc_by_year[\"count\"], marker='o')\n",
    "    ax1.set(title=\"Cumulative discoveries over the years\", xlabel=\"Year\", ylabel=\"Exoplanets discovered\", xticks=disc_by_year['disc_year'].unique())\n",
    "    ax1.xaxis.set_tick_params(rotation=45)\n",
    "    \n",
    "    # Create the bar plot\n",
    "    # barplot = sns.barplot(x=\"discoverymethod\", y=\"count\", data=count_per_type, palette=\"viridis\", ax=ax2)\n",
    "    barplot = sns.barplot(x=\"discoverymethod\", y=\"count\", hue=\"discoverymethod\", data=count_per_type, palette=\"viridis\", legend=False, ax=ax2)\n",
    "    \n",
    "    # Set y-axis to logarithmic scale\n",
    "    barplot.set_yscale('log')\n",
    "    \n",
    "    # Add the count labels on top of each bar\n",
    "    for p in barplot.patches:\n",
    "        barplot.annotate(format(p.get_height(), '.0f'),\n",
    "                         (p.get_x() + p.get_width() / 2., p.get_height()),\n",
    "                         ha='center', va='center', xytext=(0, 9),\n",
    "                         textcoords='offset points', fontsize=12)\n",
    "    \n",
    "    # Set the labels and title\n",
    "    barplot.set_xlabel('', fontsize=14)\n",
    "    barplot.set_ylabel('Count (log scale)', fontsize=14)\n",
    "    barplot.set_title('Count of Exoplanets Detected by Method')\n",
    "    \n",
    "    # Rotate x-axis labels for better readability\n",
    "    plt.setp(barplot.get_xticklabels(), rotation=45, ha='right')\n",
    "    plt.tight_layout()\n",
    "    plt.show()\n",
    "\n",
    "plot_discoveries_by_year_and_type()"
   ],
   "id": "3a49e0d712044e1f",
   "outputs": [],
   "execution_count": null
  },
  {
   "metadata": {},
   "cell_type": "markdown",
   "source": "## Planets and Host Stars statistics",
   "id": "ad994ead0596fb95"
  },
  {
   "cell_type": "code",
   "source": [
    "# How many planets per star\n",
    "planets_per_star = exo_df.groupby(\"hostname\").size()\n",
    "px.histogram(planets_per_star, title=\"How many planets per star\").show()"
   ],
   "metadata": {
    "collapsed": false
   },
   "id": "2a564330cb4e5f72",
   "outputs": [],
   "execution_count": null
  },
  {
   "cell_type": "code",
   "source": "px.scatter(exo_df, x=\"st_mass\", y=\"pl_rade\", log_y=True, log_x=True, title=\"Star size vs planet radius\").show()",
   "metadata": {
    "collapsed": false
   },
   "id": "ae5e090e90653626",
   "outputs": [],
   "execution_count": null
  },
  {
   "metadata": {},
   "cell_type": "markdown",
   "source": "### Closer look at orbital period vs planet mass and radius",
   "id": "f6927732471db6ea"
  },
  {
   "cell_type": "code",
   "source": [
    "from exo_finder.visualization.planet_stars_plotting import plot_planet_period_radius_mass\n",
    "\n",
    "\n",
    "orbit_mass = exo_df[[\"pl_orbper\", \"pl_masse\"]].dropna().to_numpy()\n",
    "orbit_radius = exo_df[[\"pl_orbper\", \"pl_rade\"]].dropna().to_numpy()\n",
    "print(f\"Total planets: {len(orbit_mass)}, {len(orbit_radius)}\")\n",
    "plot_planet_period_radius_mass(period_mass=orbit_mass, period_radius=orbit_radius)"
   ],
   "metadata": {},
   "id": "2c36e23bdc90e8de",
   "outputs": [],
   "execution_count": null
  },
  {
   "metadata": {},
   "cell_type": "code",
   "source": [
    "def plot_orbital_period_distribution(mass_range: Optional[tuple[float, float]] = None):\n",
    "    if mass_range:\n",
    "        m_low, m_high = mass_range\n",
    "        planets_and_masses = exo_df[[\"pl_orbper\", \"pl_masse\"]].dropna()\n",
    "        mask = (planets_and_masses[\"pl_masse\"] > m_low) & (planets_and_masses[\"pl_masse\"] < m_high)\n",
    "        periods = planets_and_masses.loc[mask, \"pl_orbper\"].to_numpy()\n",
    "    else:\n",
    "        periods = exo_df[[\"pl_orbper\"]].dropna().to_numpy()\n",
    "\n",
    "    print(f\"Periods stats: Min: {min(periods)}, max: {max(periods)}, median: {np.median(periods)}, 90% interval: {np.quantile(periods, q=(0.05, 0.95))}\")\n",
    "\n",
    "    fig, (ax1, ax2) = plt.subplots(1, 2, figsize=(15, 5))\n",
    "    ax1.hist(np.log10(periods), bins=100)\n",
    "    ax2.hist(periods[periods < 50], bins=100)\n",
    "    ax1.set(title=\"Distribution of orbital periods\", xlabel=\"Orbital Period log_10(days)\", xlim=(-1, 5))\n",
    "    ax2.set(title=\"Distribution of orbital periods\", xlabel=\"Orbital Period (days)\")\n",
    "    plt.tight_layout()\n",
    "    plt.show()\n",
    "\n",
    "plot_orbital_period_distribution()\n",
    "plot_orbital_period_distribution(mass_range=(0, 1))\n",
    "plot_orbital_period_distribution(mass_range=(1, 10))\n",
    "plot_orbital_period_distribution(mass_range=(10, 100))\n",
    "plot_orbital_period_distribution(mass_range=(100, 1000))"
   ],
   "id": "a16e193196b0d7e4",
   "outputs": [],
   "execution_count": null
  },
  {
   "metadata": {},
   "cell_type": "markdown",
   "source": "### And to the transit depth",
   "id": "6b8653442097a447"
  },
  {
   "metadata": {},
   "cell_type": "code",
   "source": [
    "from exo_finder.visualization.planet_stars_plotting import plot_transit_depth\n",
    "\n",
    "period_depth = exo_df[[\"pl_rade\", \"pl_trandep\", \"st_rad\"]].dropna()\n",
    "print(len(period_depth))\n",
    "\n",
    "plot_transit_depth(pl_radius=period_depth.iloc[:, 0], transit_depth=period_depth.iloc[:, 1], stellar_radius=period_depth.iloc[:, 2])"
   ],
   "id": "2904df9d4f2cb064",
   "outputs": [],
   "execution_count": null
  },
  {
   "cell_type": "markdown",
   "source": [
    "# Stars statistics"
   ],
   "metadata": {
    "collapsed": false
   },
   "id": "107fc0dd3eab40b4"
  },
  {
   "cell_type": "code",
   "source": [
    "unique_stars = exo_df.groupby('hostname').agg({\n",
    "    \"st_mass\": \"mean\",\n",
    "    \"st_lum\": \"mean\",\n",
    "    \"st_age\": \"mean\",\n",
    "    \"sy_dist\": \"mean\",\n",
    "    \"st_rad\": \"mean\",\n",
    "    \"st_teff\": \"mean\",\n",
    "    \"sy_tmag\": \"mean\",\n",
    "    \"sy_kepmag\": \"mean\",\n",
    "    \"sy_vmag\": \"mean\",\n",
    "    \"st_spectype\": \"first\"  \n",
    "})\n",
    "\n",
    "# Plotting histograms for each column\n",
    "cols = unique_stars.columns[:-1]\n",
    "nrows = (1+len(cols)) // 2\n",
    "fig, axes = plt.subplots(nrows=nrows, ncols=2, figsize=(14, nrows*4))\n",
    "axes = axes.flatten()\n",
    "\n",
    "# Loop through each column and plot histogram\n",
    "for i, column in enumerate(cols):\n",
    "    ax = axes[i]\n",
    "    filtered_values = unique_stars[unique_stars[column] != 0][column]\n",
    "    ax.hist(filtered_values, bins=50, color='skyblue', edgecolor='black')\n",
    "    ax.set_title(column)\n",
    "    ax.set_xlabel('Value')\n",
    "    ax.set_ylabel('Frequency')\n",
    "\n",
    "# Adjust layout\n",
    "plt.tight_layout()\n",
    "plt.show()"
   ],
   "metadata": {
    "collapsed": false
   },
   "id": "b3d7cd821e481e28",
   "outputs": [],
   "execution_count": null
  },
  {
   "metadata": {},
   "cell_type": "markdown",
   "source": "# Planets statistics",
   "id": "c415e45617d8ee42"
  },
  {
   "cell_type": "code",
   "source": [
    "planet_parameters = [\"pl_rade\", \"pl_trandur\", \"pl_orbper\", \"pl_masse\", \"pl_orbsmax\", \"pl_orbincl\", \"pl_orbeccen\", \"pl_orblper\", \"pl_orbtper\"]\n",
    "# Plotting histograms for each column\n",
    "cols = planet_parameters\n",
    "ncols = 3\n",
    "nrows = (2+len(cols)) // ncols\n",
    "fig, axes = plt.subplots(nrows=nrows, ncols=ncols, figsize=(15, nrows*4))\n",
    "axes = axes.flatten()\n",
    "\n",
    "# Loop through each column and plot histogram\n",
    "for i, column in enumerate(cols):\n",
    "    ax = axes[i]\n",
    "    filtered_values = exo_df[exo_df[column] != 0][column].dropna()\n",
    "    filtered_values = filtered_values[filtered_values.abs() < filtered_values.quantile(q=0.95)]\n",
    "    ax.hist(filtered_values, bins=100, color='skyblue', edgecolor='black')\n",
    "    ax.set_title(column)\n",
    "\n",
    "# Adjust layout\n",
    "plt.tight_layout()\n",
    "plt.show()"
   ],
   "metadata": {
    "collapsed": false
   },
   "id": "701964d16537673e",
   "outputs": [],
   "execution_count": null
  },
  {
   "cell_type": "code",
   "source": [
    "def study_transit_midpoints():\n",
    "    \"\"\"\n",
    "    Studies the transit midpoints for systems with multiple planets\n",
    "    \"\"\"\n",
    "    midpoints = (\n",
    "        exo_df[[\"pl_tranmid\", \"disc_year\", \"hostname\"]]\n",
    "        .dropna()\n",
    "        .groupby(\"hostname\")\n",
    "        .agg(\n",
    "            count=(\"pl_tranmid\", \"count\"),\n",
    "            pl_tranmid_min=(\"pl_tranmid\", \"min\"),\n",
    "            pl_tranmid_max=(\"pl_tranmid\", \"max\"),\n",
    "            diff_pl_tranmid=(\"pl_tranmid\", lambda x: x.max() - x.min()),\n",
    "            disc_year=(\"disc_year\", \"first\"))\n",
    "         .sort_values(by=\"disc_year\", ascending=False))\n",
    "    \n",
    "    midpoints = midpoints[midpoints[\"diff_pl_tranmid\"].values.astype(float) > 0]\n",
    "    #fit_data(midpoints[\"diff_pl_tranmid\"], plot=True, upper_limit=500, include_zeros=False)\n",
    "    return midpoints\n",
    "\n",
    "study_transit_midpoints()"
   ],
   "metadata": {
    "collapsed": false
   },
   "id": "20c5b06b94b47911",
   "outputs": [],
   "execution_count": null
  }
 ],
 "metadata": {
  "kernelspec": {
   "display_name": "Python 3",
   "language": "python",
   "name": "python3"
  },
  "language_info": {
   "codemirror_mode": {
    "name": "ipython",
    "version": 2
   },
   "file_extension": ".py",
   "mimetype": "text/x-python",
   "name": "python",
   "nbconvert_exporter": "python",
   "pygments_lexer": "ipython2",
   "version": "2.7.6"
  }
 },
 "nbformat": 4,
 "nbformat_minor": 5
}
