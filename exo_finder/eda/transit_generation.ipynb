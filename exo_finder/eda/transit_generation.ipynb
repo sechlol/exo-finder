{
 "cells": [
  {
   "cell_type": "code",
   "id": "initial_id",
   "metadata": {
    "ExecuteTime": {
     "end_time": "2025-08-16T11:12:22.597213Z",
     "start_time": "2025-08-16T11:12:21.690901Z"
    }
   },
   "source": [
    "from matplotlib import pyplot as plt\n",
    "import astropy.units as u\n",
    "import numpy as np\n",
    "from exo_finder.data_pipeline.generation.dataset_generation import TransitProfile\n",
    "from exo_finder.data_pipeline.generation.time_generation import generate_time_days_of_length\n",
    "from exo_finder.data_pipeline.generation.transit_generation import PlanetType, PeriodFrequency,generate_transits_from_params, generate_transit_parameters\n",
    "from exo_finder.default_datasets import gaia_dataset"
   ],
   "outputs": [],
   "execution_count": 1
  },
  {
   "metadata": {
    "ExecuteTime": {
     "end_time": "2025-08-16T11:12:22.807139Z",
     "start_time": "2025-08-16T11:12:22.599760Z"
    }
   },
   "cell_type": "code",
   "source": [
    "fields = [\"gaia_id\", \"radius\", \"mass_flame\", \"teff_mean\"]\n",
    "gaia_df = gaia_dataset.load_gaia_parameters_dataset().to_pandas()[fields].dropna()\n",
    "print(\"Dataset size:\", len(gaia_df))"
   ],
   "id": "c14c91dbd258981",
   "outputs": [
    {
     "name": "stdout",
     "output_type": "stream",
     "text": [
      "Dataset size: 236728\n"
     ]
    }
   ],
   "execution_count": 2
  },
  {
   "metadata": {
    "ExecuteTime": {
     "end_time": "2025-08-16T11:12:22.861915Z",
     "start_time": "2025-08-16T11:12:22.809561Z"
    }
   },
   "cell_type": "code",
   "source": [
    "sample = gaia_df.sample(1)\n",
    "radius, mass, teff = sample[\"radius\"].item(), sample[\"mass_flame\"].item(), sample[\"teff_mean\"].item()\n",
    "print(f\"Star {sample['gaia_id'].item()}: Radius {radius}, Mass {mass}, Teff {teff}\")\n",
    "mass = mass * u.solMass\n",
    "radius = radius * u.solRad\n",
    "teff = teff * u.K\n",
    "\n",
    "params_e = generate_transit_parameters(\n",
    "    planet_type=PlanetType.NEPTUNE,\n",
    "    orbital_period_interval=PeriodFrequency.THREE_TO_TEN_DAYS,\n",
    "    star_radius=radius,\n",
    "    star_mass= mass,\n",
    "    transit_midpoint_range=(1, 2),\n",
    ")\n",
    "\n",
    "params_j = generate_transit_parameters(\n",
    "    planet_type=PlanetType.JUPITER,\n",
    "    orbital_period_interval=(1000, 1000),\n",
    "    star_radius=radius,\n",
    "    star_mass= mass,\n",
    "    transit_midpoint_range=(1, 2),\n",
    ")\n",
    "\n",
    "x = generate_time_days_of_length(2**12)\n",
    "transits_e = generate_transits_from_params(params_e, x)\n",
    "transits_j = generate_transits_from_params(params_j, x)\n",
    "\n",
    "plt.figure(figsize=(15, 3))\n",
    "plt.plot(x, transits_e)\n",
    "plt.plot(x, transits_j)\n",
    "plt.show()"
   ],
   "id": "a71ee5c1dfd8706f",
   "outputs": [
    {
     "name": "stdout",
     "output_type": "stream",
     "text": [
      "Star 5277198386427150720: Radius 0.9333929121494293, Mass 0.9621164798736572, Teff 5380.51025390625\n"
     ]
    },
    {
     "data": {
      "text/plain": [
       "<Figure size 1500x300 with 1 Axes>"
      ],
      "image/png": "[encoded data removed]"
     },
     "metadata": {},
     "output_type": "display_data",
     "jetTransient": {
      "display_id": null
     }
    }
   ],
   "execution_count": 3
  },
  {
   "metadata": {},
   "cell_type": "markdown",
   "source": "### Generate dataset and study the distribution of parameters",
   "id": "e0e9c50f9f52b9fd"
  },
  {
   "metadata": {
    "ExecuteTime": {
     "end_time": "2025-08-16T11:17:11.093039Z",
     "start_time": "2025-08-16T11:17:10.697779Z"
    }
   },
   "cell_type": "code",
   "source": [
    "# Hot Jupyters: short period, at least 2 transits\n",
    "hot_jupyters = TransitProfile(\n",
    "    planet_type=PlanetType.JUPITER,\n",
    "    transit_period_range=(1, 10),\n",
    "    transit_midpoint_range=(0, 5),\n",
    "    weight=1,\n",
    ")\n",
    "n = 1000\n",
    "\n",
    "rndgen = np.random.default_rng(8)\n",
    "sample_stars = gaia_df.sample(n, replace=True, random_state=8)\n",
    "\n",
    "all_params = []\n",
    "for i, row in sample_stars.iterrows():\n",
    "    all_params.append(generate_transit_parameters(\n",
    "        planet_type=hot_jupyters.planet_type,\n",
    "        orbital_period_interval=hot_jupyters.transit_period_range,\n",
    "        star_radius=row[\"radius\"] * u.solRad,\n",
    "        star_mass=row[\"mass_flame\"] * u.solMass,\n",
    "        transit_midpoint_range=hot_jupyters.transit_midpoint_range,\n",
    "        rnd_generator=rndgen\n",
    "    ).to_numpy())\n",
    "\n",
    "all_params = np.vstack(all_params)"
   ],
   "id": "d9961d56c2266f03",
   "outputs": [
    {
     "name": "stdout",
     "output_type": "stream",
     "text": [
      "(1000, 11)\n"
     ]
    },
    {
     "name": "stderr",
     "output_type": "stream",
     "text": [
      "/Users/christian/git/exo-finder/exo_finder/data_pipeline/generation/limb_darkening.py:78: UserWarning: Temperature [3410.57427917] outside calibrated range (4000-7500 K), using clamped value.\n",
      "  warnings.warn(f\"Temperature {t_eff} outside calibrated range (4000-7500 K), using clamped value.\")\n"
     ]
    }
   ],
   "execution_count": 16
  },
  {
   "metadata": {},
   "cell_type": "code",
   "outputs": [],
   "execution_count": null,
   "source": "",
   "id": "fc38384dafcbd512"
  }
 ],
 "metadata": {
  "kernelspec": {
   "display_name": "Python 3",
   "language": "python",
   "name": "python3"
  },
  "language_info": {
   "codemirror_mode": {
    "name": "ipython",
    "version": 2
   },
   "file_extension": ".py",
   "mimetype": "text/x-python",
   "name": "python",
   "nbconvert_exporter": "python",
   "pygments_lexer": "ipython2",
   "version": "2.7.6"
  }
 },
 "nbformat": 4,
 "nbformat_minor": 5
}
