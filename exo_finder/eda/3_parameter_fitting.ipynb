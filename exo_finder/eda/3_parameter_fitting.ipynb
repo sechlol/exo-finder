{
 "cells": [
  {
   "metadata": {},
   "cell_type": "markdown",
   "source": [
    "# Data fitting\n",
    "For some selected parameter, try to fit 4 different distributions to see how well they fit"
   ],
   "id": "9f2b0961e5c5001c"
  },
  {
   "cell_type": "code",
   "id": "initial_id",
   "metadata": {},
   "source": [
    "from exo_finder.compute.parameter_fitting import fit_distributions_to_data_and_visualize\n",
    "from exo_finder.default_datasets import exo_dataset"
   ],
   "outputs": [],
   "execution_count": null
  },
  {
   "metadata": {},
   "cell_type": "code",
   "source": [
    "exo_db = exo_dataset.load_known_exoplanets_dataset(with_gaia_star_data=True).get_default_records()\n",
    "exo_df = exo_db.to_pandas()"
   ],
   "id": "3ec2d73119e0b6ab",
   "outputs": [],
   "execution_count": null
  },
  {
   "metadata": {},
   "cell_type": "code",
   "source": "fit_distributions_to_data_and_visualize(exo_db.view[\"pl_orbper\"], name=\"pl_orbper\", lower_limit=0, upper_limit=200)",
   "id": "42445f2cc689aca8",
   "outputs": [],
   "execution_count": null
  },
  {
   "metadata": {},
   "cell_type": "code",
   "source": "fit_distributions_to_data_and_visualize(exo_db.view[\"pl_orbsmax\"], name=\"pl_orbsmax\", lower_limit=0)",
   "id": "857bf757be122a2c",
   "outputs": [],
   "execution_count": null
  },
  {
   "metadata": {},
   "cell_type": "code",
   "source": "fit_distributions_to_data_and_visualize(exo_db.view[\"pl_orblper\"], name=\"pl_orblper\")",
   "id": "df81c2840b97e6a1",
   "outputs": [],
   "execution_count": null
  },
  {
   "metadata": {},
   "cell_type": "code",
   "source": "fit_distributions_to_data_and_visualize(exo_db.view[\"pl_orbincl\"], name=\"pl_orbincl\")",
   "id": "27f45593c1b9115e",
   "outputs": [],
   "execution_count": null
  },
  {
   "metadata": {},
   "cell_type": "code",
   "source": "fit_distributions_to_data_and_visualize(exo_db.view[\"pl_orbeccen\"]+0.001, name=\"pl_orbeccen\")",
   "id": "1917071998a3ea2",
   "outputs": [],
   "execution_count": null
  },
  {
   "metadata": {},
   "cell_type": "code",
   "source": "fit_distributions_to_data_and_visualize(exo_db.view[\"st_mass\"], name=\"st_mass\")",
   "id": "9fd38a3b311d5128",
   "outputs": [],
   "execution_count": null
  },
  {
   "metadata": {},
   "cell_type": "code",
   "source": "fit_distributions_to_data_and_visualize(exo_db.view[\"pl_rade\"], name=\"pl_rade\", lower_limit=0)",
   "id": "d28b7ec24259e42f",
   "outputs": [],
   "execution_count": null
  },
  {
   "metadata": {},
   "cell_type": "code",
   "source": "fit_distributions_to_data_and_visualize(exo_db.view[\"pl_masse\"], name=\"pl_masse\", upper_limit=3000)",
   "id": "3d9f0a4962f95f66",
   "outputs": [],
   "execution_count": null
  },
  {
   "metadata": {},
   "cell_type": "code",
   "source": "fit_distributions_to_data_and_visualize(exo_db.view[\"pl_dens\"], name=\"pl_dens\")",
   "id": "e75c8a8a43fd8c16",
   "outputs": [],
   "execution_count": null
  },
  {
   "metadata": {},
   "cell_type": "code",
   "source": "fit_distributions_to_data_and_visualize(exo_db.view[\"pl_trandur\"], name=\"pl_trandur\", lower_limit=0, upper_limit=200)",
   "id": "c8b62f99262e5024",
   "outputs": [],
   "execution_count": null
  }
 ],
 "metadata": {
  "kernelspec": {
   "display_name": "Python 3",
   "language": "python",
   "name": "python3"
  },
  "language_info": {
   "codemirror_mode": {
    "name": "ipython",
    "version": 2
   },
   "file_extension": ".py",
   "mimetype": "text/x-python",
   "name": "python",
   "nbconvert_exporter": "python",
   "pygments_lexer": "ipython2",
   "version": "2.7.6"
  }
 },
 "nbformat": 4,
 "nbformat_minor": 5
}
