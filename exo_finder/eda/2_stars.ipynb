{
 "cells": [
  {
   "cell_type": "code",
   "id": "initial_id",
   "metadata": {
    "collapsed": true
   },
   "source": [
    "import matplotlib.pyplot as plt\n",
    "import numpy as np\n",
    "import pandas as pd\n",
    "import seaborn as sns\n",
    "\n",
    "from exo_finder.default_datasets import exo_dataset"
   ],
   "outputs": [],
   "execution_count": null
  },
  {
   "metadata": {},
   "cell_type": "markdown",
   "source": "# Statistics of stars hosting exoplanets",
   "id": "a8a8c5ac16a9d62"
  },
  {
   "metadata": {},
   "cell_type": "code",
   "source": [
    "exo_db = exo_dataset.load_known_exoplanets_dataset(with_gaia_star_data=True).get_default_records()\n",
    "gaia_db = exo_dataset.load_gaia_dataset_of_known_exoplanets()\n",
    "exo_stars = pd.merge(exo_db.to_pandas(), gaia_db.to_pandas(), on=\"gaia_id\", how=\"inner\")\n",
    "exo_stars"
   ],
   "id": "14feb11c986667fe",
   "outputs": [],
   "execution_count": null
  },
  {
   "metadata": {},
   "cell_type": "markdown",
   "source": "#### Scatter of stars in relation of their habitable zone",
   "id": "816beca13338fba3"
  },
  {
   "metadata": {},
   "cell_type": "code",
   "source": [
    "def plot_habitable_zone(ax):\n",
    "    \"\"\"\n",
    "    Visualizes exoplanets and their position relative to the habitable zone.\n",
    "    ref: https://www.planetarybiology.com/calculating_habitable_zone.html\n",
    "    \"\"\"\n",
    "    \n",
    "    # Remove rows with NaNs in relevant columns\n",
    "    valid_data = exo_stars.dropna(subset=[\"pl_orbsmax\", \"inner_hz\", \"outer_hz\"])\n",
    "    magnitudes = valid_data[\"lum_flame\"]\n",
    "    \n",
    "    # Plot the habitable zone regions\n",
    "    mags = np.linspace(magnitudes.min(), magnitudes.max(), 100)\n",
    "    inners = np.sqrt(mags/1.1)\n",
    "    outers = np.sqrt(mags/0.53)\n",
    "    \n",
    "    ax.fill_between(mags, outers, 1e4, color='blue', alpha=0.2, label=\"Too Cold\")\n",
    "    ax.fill_between(mags, inners, outers, color='green', alpha=0.4, label=\"Habitable Zone\")\n",
    "    ax.fill_between(mags, 10**-2.5, inners, color='red', alpha=0.2, label=\"Too Hot\")\n",
    "    \n",
    "    ax.scatter(magnitudes, valid_data[\"pl_orbsmax\"], color='blue', label=\"Exoplanets\", s=2)\n",
    "    ax.set(\n",
    "        xlabel=r\"Star's luminosity [$L_\\odot$]\",\n",
    "        ylabel=\"Distance from star [au]\",\n",
    "        yscale=\"log\",\n",
    "        xscale=\"log\",\n",
    "        # title=\"Exoplanets and the Habitable Zone\",\n",
    "    )\n",
    "    ax.legend(loc='upper right')\n",
    "    \n",
    "plt.figure(figsize=(9, 6))\n",
    "plot_habitable_zone(ax=plt.gca())\n",
    "plt.tight_layout()\n",
    "plt.show()\n"
   ],
   "id": "9d1547d9c9c12f75",
   "outputs": [],
   "execution_count": null
  },
  {
   "metadata": {},
   "cell_type": "markdown",
   "source": "## Distribution of stellar parameters",
   "id": "36d251d331425e5a"
  },
  {
   "metadata": {},
   "cell_type": "code",
   "source": [
    "fig, axes = plt.subplots(1, 3, figsize=(15, 4))\n",
    "\n",
    "def star_radius_distribution(ax):\n",
    "    data = exo_stars[\"radius\"].dropna().values\n",
    "    data = data[data < np.quantile(data, 0.97)]\n",
    "    ax.hist(data, bins=50)\n",
    "    ax.set(title=\"Radius\", xlabel=r\"Radius [$R_\\odot$]\", ylabel=\"Count\")\n",
    "\n",
    "def star_mass_distribution(ax):\n",
    "    data = exo_stars[\"mass_flame\"].dropna().values\n",
    "    data = data[data < np.quantile(data, 0.99)]\n",
    "    ax.hist(data, bins=50)\n",
    "    ax.set(title=\"Mass\", xlabel=r\"Mass [$M_\\odot$]\", ylabel=\"Count\")\n",
    "\n",
    "def star_temperature_distribution(ax):\n",
    "    data = exo_stars[\"teff_mean\"].dropna()\n",
    "    ax.hist(data, bins=50)\n",
    "    ax.set(title=\"Effective Temperature\", xlabel=r\"Temperature [K]\", ylabel=\"Count\")\n",
    "\n",
    "\n",
    "star_radius_distribution(axes[0])\n",
    "star_mass_distribution(axes[1])\n",
    "star_temperature_distribution(axes[2])\n",
    "\n",
    "# plt.suptitle(\"Distribution of stellar parameters\")\n",
    "plt.tight_layout()\n",
    "plt.show()"
   ],
   "id": "16cb906eb6b1667e",
   "outputs": [],
   "execution_count": null
  },
  {
   "metadata": {},
   "cell_type": "code",
   "source": [
    "fig, axes = plt.subplots(1, 3, figsize=(15, 5))\n",
    "\n",
    "def star_radius_planet_radius(ax):\n",
    "    star_radii = exo_stars[[\"st_rad\", \"st_rad_gaia\"]].mean(axis=1)\n",
    "    pl_radii = exo_stars[\"pl_rade\"]\n",
    "    \n",
    "    sns.scatterplot(x=star_radii, y=pl_radii, ax=ax, alpha=0.5, s=8)\n",
    "    ax.set(title=\"Star vs planet radius\", xlim=(0, 4), ylim=(0, 25), xlabel=r\"Star radius [$R_\\odot$]\", ylabel=r\"Planet radius [$R_\\oplus$]\")\n",
    "\n",
    "def star_temp_mass(ax):\n",
    "    masses = exo_stars[[\"mass_flame\", \"st_mass\"]].mean(axis=1)\n",
    "    sns.scatterplot(exo_stars, x=\"teff_mean\", y=masses, hue=\"spectraltype_esphs\", ax=ax, alpha=0.5, s=7)\n",
    "    ax.set(title=\"Star temperature vs mass\", xlabel=r\"Star temperature [K]\", ylim=(0, 3), ylabel=r\"Star Mass [$M_\\odot$]\")\n",
    "    ax.legend(title=\"Type\", markerscale=2)\n",
    "\n",
    "def star_temp_lum(ax):\n",
    "    data = exo_stars[[\"teff_mean\", \"lum_flame\", \"spectraltype_esphs\"]].dropna()\n",
    "    sns.scatterplot(data, x=\"teff_mean\", y=\"lum_flame\", hue=\"spectraltype_esphs\", ax=ax, alpha=0.5, s=7)\n",
    "    ax.set(title=\"Star temperature vs luminosity\", xlabel=r\"Star temperature [K]\", ylabel=r\"Star Luminosity [$\\log_{10}L_\\odot$]\", yscale=\"log\")\n",
    "    ax.legend(title=\"Type\", markerscale=2)\n",
    "\n",
    "def star_distance_luminosity(ax):\n",
    "    sns.scatterplot(exo_stars, x=\"distance_msc\", y=\"radius\", ax=ax, alpha=0.5, s=7)\n",
    "    ax.set(title=\"Star distance vs radius\", yscale=\"log\", xlabel=\"Distance from Earth [pc]\", ylabel=r\"Radius [$R_\\odot$]\")\n",
    "\n",
    "star_radius_planet_radius(axes[0])\n",
    "star_temp_lum(axes[1])\n",
    "star_distance_luminosity(axes[2])\n",
    "\n",
    "# plt.suptitle(\"Relation of stellar and planetary parameters\")\n",
    "plt.tight_layout()\n",
    "plt.show()"
   ],
   "id": "3e83a1bf9c04ad68",
   "outputs": [],
   "execution_count": null
  }
 ],
 "metadata": {
  "kernelspec": {
   "display_name": "Python 3",
   "language": "python",
   "name": "python3"
  },
  "language_info": {
   "codemirror_mode": {
    "name": "ipython",
    "version": 2
   },
   "file_extension": ".py",
   "mimetype": "text/x-python",
   "name": "python",
   "nbconvert_exporter": "python",
   "pygments_lexer": "ipython2",
   "version": "2.7.6"
  }
 },
 "nbformat": 4,
 "nbformat_minor": 5
}
