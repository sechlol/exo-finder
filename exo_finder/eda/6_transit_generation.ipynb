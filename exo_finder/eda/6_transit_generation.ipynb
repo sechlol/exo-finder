{
 "cells": [
  {
   "cell_type": "code",
   "id": "initial_id",
   "metadata": {},
   "source": [
    "import pandas as pd\n",
    "from matplotlib import pyplot as plt\n",
    "import astropy.units as u\n",
    "import numpy as np\n",
    "\n",
    "from exo_finder.data_pipeline.generation.dataset_generation_types import TransitProfile\n",
    "from exo_finder.data_pipeline.generation.time_generation import generate_time_days_of_length\n",
    "from exo_finder.data_pipeline.generation.transit_generation import PlanetType, PeriodFrequency,generate_transits_from_params, generate_transit_parameters\n",
    "from exo_finder.default_datasets import gaia_dataset"
   ],
   "outputs": [],
   "execution_count": null
  },
  {
   "metadata": {},
   "cell_type": "code",
   "source": [
    "fields = [\"gaia_id\", \"radius\", \"mass_flame\", \"teff_mean\"]\n",
    "gaia_df = gaia_dataset.load_gaia_parameters_dataset().to_pandas()[fields].dropna()\n",
    "print(\"Dataset size:\", len(gaia_df))"
   ],
   "id": "c14c91dbd258981",
   "outputs": [],
   "execution_count": null
  },
  {
   "metadata": {},
   "cell_type": "code",
   "source": [
    "%load_ext autoreload\n",
    "%autoreload 2"
   ],
   "id": "d7e25ffc30a106d3",
   "outputs": [],
   "execution_count": null
  },
  {
   "metadata": {},
   "cell_type": "code",
   "source": [
    "sample = gaia_df.sample(1)\n",
    "radius, mass, teff = sample[\"radius\"].item(), sample[\"mass_flame\"].item(), sample[\"teff_mean\"].item()\n",
    "print(f\"Star {sample['gaia_id'].item()}: Radius {radius}, Mass {mass}, Teff {teff}\")\n",
    "mass = mass * u.solMass\n",
    "radius = radius * u.solRad\n",
    "teff = teff * u.K\n",
    "\n",
    "params_e = generate_transit_parameters(\n",
    "    planet_type=PlanetType.MINI_NEPTUNE,\n",
    "    orbital_period_interval=PeriodFrequency.THREE_TO_TEN_DAYS,\n",
    "    star_radius=radius,\n",
    "    star_mass= mass,\n",
    "    transit_midpoint_range=(1, 2),\n",
    ")\n",
    "\n",
    "params_j = generate_transit_parameters(\n",
    "    planet_type=PlanetType.JUPITER,\n",
    "    orbital_period_interval=(1000, 1000),\n",
    "    star_radius=radius,\n",
    "    star_mass= mass,\n",
    "    transit_midpoint_range=(0, 5),\n",
    ")\n",
    "\n",
    "x = generate_time_days_of_length(2**12)\n",
    "transits_e = generate_transits_from_params(params_e, x)\n",
    "transits_j = generate_transits_from_params(params_j, x)\n",
    "\n",
    "plt.figure(figsize=(15, 3))\n",
    "plt.plot(x, transits_e)\n",
    "plt.plot(x, transits_j)\n",
    "plt.show()"
   ],
   "id": "a71ee5c1dfd8706f",
   "outputs": [],
   "execution_count": null
  },
  {
   "metadata": {},
   "cell_type": "markdown",
   "source": "### Generate dataset and study the distribution of parameters",
   "id": "e0e9c50f9f52b9fd"
  },
  {
   "metadata": {},
   "cell_type": "code",
   "source": [
    "# Hot Jupyters: short period, at least 2 transits\n",
    "hot_jupyters = TransitProfile(\n",
    "    planet_type=PlanetType.JUPITER,\n",
    "    transit_period_range=(1, 10),\n",
    "    transit_midpoint_range=(0, 5),\n",
    "    weight=1,\n",
    ")\n",
    "hot_jupyters = TransitProfile(\n",
    "    planet_type=PlanetType.JUPITER,\n",
    "    transit_period_range=(1, 10),\n",
    "    transit_midpoint_range=(0, 5),\n",
    "    weight=1,\n",
    ")\n",
    "n = 1000\n",
    "\n",
    "rndgen = np.random.default_rng(8)\n",
    "sample_stars = gaia_df.sample(n, replace=True, random_state=8)\n",
    "\n",
    "all_params = []\n",
    "for i, row in sample_stars.iterrows():\n",
    "    for planet_type in PlanetType:\n",
    "        all_params.append(generate_transit_parameters(\n",
    "            planet_type=planet_type,\n",
    "            orbital_period_interval=(0.5, 10),\n",
    "            transit_midpoint_range=(0, 5),\n",
    "            star_radius=row[\"radius\"] * u.solRad,\n",
    "            star_mass=row[\"mass_flame\"] * u.solMass,\n",
    "            rnd_generator=rndgen\n",
    "        ))\n",
    "\n",
    "all_transits = [generate_transits_from_params(p, x) for p in all_params]\n",
    "all_transits = np.vstack(all_transits)\n",
    "\n",
    "params_df = pd.DataFrame([p.to_dict() for p in all_params])\n",
    "params_df"
   ],
   "id": "d9961d56c2266f03",
   "outputs": [],
   "execution_count": null
  },
  {
   "metadata": {},
   "cell_type": "code",
   "source": [
    "import seaborn as sns\n",
    "period_mass = params_df[[\"period_d\", \"planet_mass_solmass\"]].to_numpy()\n",
    "period_radius = params_df[[\"period_d\", \"planet_radius_solrad\"]].to_numpy()\n",
    "\n",
    "# Create a figure with two subplots arranged vertically\n",
    "fig, (ax1, ax2) = plt.subplots(1, 2, figsize=(15, 5))\n",
    "\n",
    "# Plot period vs mass in the first subplot\n",
    "sns.scatterplot(x=\"period_d\", y=\"planet_mass_solmass\", data=params_df, s=5, alpha=0.7, ax=ax1)\n",
    "ax1.set_title('Period vs Planet Mass')\n",
    "ax1.set_xlabel('Period (days)')\n",
    "ax1.set_ylabel('Planet Mass (solar masses)')\n",
    "\n",
    "# Plot period vs radius in the second subplot\n",
    "sns.scatterplot(x=\"period_d\", y=\"planet_radius_solrad\", data=params_df, s=5, alpha=0.7, ax=ax2)\n",
    "ax2.set_title('Period vs Planet Radius')\n",
    "ax2.set_xlabel('Period (days)')\n",
    "ax2.set_ylabel('Planet Radius (solar radii)')\n",
    "\n",
    "# Adjust layout to prevent overlap\n",
    "plt.tight_layout()\n",
    "plt.show()"
   ],
   "id": "fc38384dafcbd512",
   "outputs": [],
   "execution_count": null
  },
  {
   "metadata": {},
   "cell_type": "code",
   "source": [
    "periods = params_df[\"period_d\"].to_numpy()\n",
    "midpoints = params_df[\"first_transit_midpoint_d\"].to_numpy()\n",
    "print(f\"Periods stats: Min: {min(periods)}, max: {max(periods)}, median: {np.median(periods)}, 90% interval: {np.quantile(periods, q=(0.05, 0.95))}\")\n",
    "fig, (ax1, ax2) = plt.subplots(1, 2, figsize=(15, 5))\n",
    "ax1.hist(midpoints, bins=100)\n",
    "ax2.hist(periods[periods < 50], bins=100)\n",
    "ax1.set(title=\"Distribution of first transit midpoints\", xlabel=\"First transit (days)\", xlim=(-1, 5))\n",
    "ax2.set(title=\"Distribution of orbital periods\", xlabel=\"Orbital Period (days)\")\n",
    "plt.tight_layout()\n",
    "plt.show()"
   ],
   "id": "dea6bb5e5f49757a",
   "outputs": [],
   "execution_count": null
  }
 ],
 "metadata": {
  "kernelspec": {
   "display_name": "Python 3",
   "language": "python",
   "name": "python3"
  },
  "language_info": {
   "codemirror_mode": {
    "name": "ipython",
    "version": 2
   },
   "file_extension": ".py",
   "mimetype": "text/x-python",
   "name": "python",
   "nbconvert_exporter": "python",
   "pygments_lexer": "ipython2",
   "version": "2.7.6"
  }
 },
 "nbformat": 4,
 "nbformat_minor": 5
}
